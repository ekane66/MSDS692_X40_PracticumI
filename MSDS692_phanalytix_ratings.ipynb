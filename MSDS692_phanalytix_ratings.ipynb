{
 "cells": [
  {
   "cell_type": "markdown",
   "id": "ebaa533f-8887-41e4-a625-e71377035533",
   "metadata": {},
   "source": []
  },
  {
   "cell_type": "markdown",
   "id": "fab17823-0bfb-433f-9772-da604f55a254",
   "metadata": {},
   "source": [
    "**Data Preprocessing:**"
   ]
  },
  {
   "cell_type": "code",
   "execution_count": 1,
   "id": "205319e1-3501-4d66-974f-04f13e28b178",
   "metadata": {},
   "outputs": [],
   "source": [
    "import pandas as pd  \n",
    "from sklearn.model_selection import train_test_split  \n",
    "from sklearn.preprocessing import LabelEncoder\n",
    "import numpy as np\n",
    "import matplotlib.pyplot as plt\n",
    "import seaborn as sns\n",
    "import re"
   ]
  },
  {
   "cell_type": "code",
   "execution_count": 2,
   "id": "3de8b48b-1539-49a7-b43d-779d3d7964a3",
   "metadata": {},
   "outputs": [
    {
     "data": {
      "text/html": [
       "<div>\n",
       "<style scoped>\n",
       "    .dataframe tbody tr th:only-of-type {\n",
       "        vertical-align: middle;\n",
       "    }\n",
       "\n",
       "    .dataframe tbody tr th {\n",
       "        vertical-align: top;\n",
       "    }\n",
       "\n",
       "    .dataframe thead th {\n",
       "        text-align: right;\n",
       "    }\n",
       "</style>\n",
       "<table border=\"1\" class=\"dataframe\">\n",
       "  <thead>\n",
       "    <tr style=\"text-align: right;\">\n",
       "      <th></th>\n",
       "      <th>ratings</th>\n",
       "      <th>like_count_song</th>\n",
       "      <th>like_count_show</th>\n",
       "      <th>total_times_played</th>\n",
       "      <th>year</th>\n",
       "      <th>cover_dummy</th>\n",
       "    </tr>\n",
       "  </thead>\n",
       "  <tbody>\n",
       "    <tr>\n",
       "      <th>0</th>\n",
       "      <td>4</td>\n",
       "      <td>3</td>\n",
       "      <td>7</td>\n",
       "      <td>3</td>\n",
       "      <td>1983</td>\n",
       "      <td>1</td>\n",
       "    </tr>\n",
       "    <tr>\n",
       "      <th>1</th>\n",
       "      <td>4</td>\n",
       "      <td>3</td>\n",
       "      <td>7</td>\n",
       "      <td>2</td>\n",
       "      <td>1983</td>\n",
       "      <td>1</td>\n",
       "    </tr>\n",
       "    <tr>\n",
       "      <th>2</th>\n",
       "      <td>3</td>\n",
       "      <td>0</td>\n",
       "      <td>3</td>\n",
       "      <td>5</td>\n",
       "      <td>1984</td>\n",
       "      <td>1</td>\n",
       "    </tr>\n",
       "    <tr>\n",
       "      <th>3</th>\n",
       "      <td>3</td>\n",
       "      <td>4</td>\n",
       "      <td>3</td>\n",
       "      <td>228</td>\n",
       "      <td>1984</td>\n",
       "      <td>1</td>\n",
       "    </tr>\n",
       "    <tr>\n",
       "      <th>4</th>\n",
       "      <td>3</td>\n",
       "      <td>1</td>\n",
       "      <td>3</td>\n",
       "      <td>228</td>\n",
       "      <td>1984</td>\n",
       "      <td>1</td>\n",
       "    </tr>\n",
       "    <tr>\n",
       "      <th>...</th>\n",
       "      <td>...</td>\n",
       "      <td>...</td>\n",
       "      <td>...</td>\n",
       "      <td>...</td>\n",
       "      <td>...</td>\n",
       "      <td>...</td>\n",
       "    </tr>\n",
       "    <tr>\n",
       "      <th>30877</th>\n",
       "      <td>5</td>\n",
       "      <td>0</td>\n",
       "      <td>2</td>\n",
       "      <td>90</td>\n",
       "      <td>2017</td>\n",
       "      <td>0</td>\n",
       "    </tr>\n",
       "    <tr>\n",
       "      <th>30878</th>\n",
       "      <td>5</td>\n",
       "      <td>1</td>\n",
       "      <td>2</td>\n",
       "      <td>471</td>\n",
       "      <td>2017</td>\n",
       "      <td>0</td>\n",
       "    </tr>\n",
       "    <tr>\n",
       "      <th>30879</th>\n",
       "      <td>5</td>\n",
       "      <td>2</td>\n",
       "      <td>2</td>\n",
       "      <td>371</td>\n",
       "      <td>2017</td>\n",
       "      <td>0</td>\n",
       "    </tr>\n",
       "    <tr>\n",
       "      <th>30880</th>\n",
       "      <td>5</td>\n",
       "      <td>0</td>\n",
       "      <td>2</td>\n",
       "      <td>233</td>\n",
       "      <td>2017</td>\n",
       "      <td>0</td>\n",
       "    </tr>\n",
       "    <tr>\n",
       "      <th>30881</th>\n",
       "      <td>5</td>\n",
       "      <td>0</td>\n",
       "      <td>2</td>\n",
       "      <td>274</td>\n",
       "      <td>2017</td>\n",
       "      <td>0</td>\n",
       "    </tr>\n",
       "  </tbody>\n",
       "</table>\n",
       "<p>30882 rows × 6 columns</p>\n",
       "</div>"
      ],
      "text/plain": [
       "       ratings  like_count_song  like_count_show  total_times_played  year  \\\n",
       "0            4                3                7                   3  1983   \n",
       "1            4                3                7                   2  1983   \n",
       "2            3                0                3                   5  1984   \n",
       "3            3                4                3                 228  1984   \n",
       "4            3                1                3                 228  1984   \n",
       "...        ...              ...              ...                 ...   ...   \n",
       "30877        5                0                2                  90  2017   \n",
       "30878        5                1                2                 471  2017   \n",
       "30879        5                2                2                 371  2017   \n",
       "30880        5                0                2                 233  2017   \n",
       "30881        5                0                2                 274  2017   \n",
       "\n",
       "       cover_dummy  \n",
       "0                1  \n",
       "1                1  \n",
       "2                1  \n",
       "3                1  \n",
       "4                1  \n",
       "...            ...  \n",
       "30877            0  \n",
       "30878            0  \n",
       "30879            0  \n",
       "30880            0  \n",
       "30881            0  \n",
       "\n",
       "[30882 rows x 6 columns]"
      ]
     },
     "execution_count": 2,
     "metadata": {},
     "output_type": "execute_result"
    }
   ],
   "source": [
    "df = pd.read_csv('phanalytix.2.csv')\n",
    "df"
   ]
  },
  {
   "cell_type": "code",
   "execution_count": 3,
   "id": "72c705ad-b99e-4766-b4a8-8b82222763c2",
   "metadata": {},
   "outputs": [
    {
     "name": "stdout",
     "output_type": "stream",
     "text": [
      "<class 'pandas.core.frame.DataFrame'>\n",
      "RangeIndex: 30882 entries, 0 to 30881\n",
      "Data columns (total 6 columns):\n",
      " #   Column              Non-Null Count  Dtype\n",
      "---  ------              --------------  -----\n",
      " 0   ratings             30882 non-null  int64\n",
      " 1   like_count_song     30882 non-null  int64\n",
      " 2   like_count_show     30882 non-null  int64\n",
      " 3   total_times_played  30882 non-null  int64\n",
      " 4   year                30882 non-null  int64\n",
      " 5   cover_dummy         30882 non-null  int64\n",
      "dtypes: int64(6)\n",
      "memory usage: 1.4 MB\n"
     ]
    }
   ],
   "source": [
    "df.info()"
   ]
  },
  {
   "cell_type": "code",
   "execution_count": 4,
   "id": "c14a6e17-a02d-45d3-a444-f4c69c4614de",
   "metadata": {},
   "outputs": [
    {
     "data": {
      "text/html": [
       "<div>\n",
       "<style scoped>\n",
       "    .dataframe tbody tr th:only-of-type {\n",
       "        vertical-align: middle;\n",
       "    }\n",
       "\n",
       "    .dataframe tbody tr th {\n",
       "        vertical-align: top;\n",
       "    }\n",
       "\n",
       "    .dataframe thead th {\n",
       "        text-align: right;\n",
       "    }\n",
       "</style>\n",
       "<table border=\"1\" class=\"dataframe\">\n",
       "  <thead>\n",
       "    <tr style=\"text-align: right;\">\n",
       "      <th></th>\n",
       "      <th>ratings</th>\n",
       "      <th>like_count_song</th>\n",
       "      <th>like_count_show</th>\n",
       "      <th>total_times_played</th>\n",
       "      <th>year</th>\n",
       "      <th>cover_dummy</th>\n",
       "    </tr>\n",
       "  </thead>\n",
       "  <tbody>\n",
       "    <tr>\n",
       "      <th>count</th>\n",
       "      <td>30882.000000</td>\n",
       "      <td>30882.000000</td>\n",
       "      <td>30882.000000</td>\n",
       "      <td>30882.000000</td>\n",
       "      <td>30882.000000</td>\n",
       "      <td>30882.000000</td>\n",
       "    </tr>\n",
       "    <tr>\n",
       "      <th>mean</th>\n",
       "      <td>3.830581</td>\n",
       "      <td>1.059128</td>\n",
       "      <td>7.208762</td>\n",
       "      <td>228.507318</td>\n",
       "      <td>1998.448676</td>\n",
       "      <td>0.239784</td>\n",
       "    </tr>\n",
       "    <tr>\n",
       "      <th>std</th>\n",
       "      <td>0.649212</td>\n",
       "      <td>3.579642</td>\n",
       "      <td>12.288691</td>\n",
       "      <td>157.435445</td>\n",
       "      <td>8.634273</td>\n",
       "      <td>0.426958</td>\n",
       "    </tr>\n",
       "    <tr>\n",
       "      <th>min</th>\n",
       "      <td>1.000000</td>\n",
       "      <td>0.000000</td>\n",
       "      <td>0.000000</td>\n",
       "      <td>0.000000</td>\n",
       "      <td>1983.000000</td>\n",
       "      <td>0.000000</td>\n",
       "    </tr>\n",
       "    <tr>\n",
       "      <th>25%</th>\n",
       "      <td>3.000000</td>\n",
       "      <td>0.000000</td>\n",
       "      <td>1.000000</td>\n",
       "      <td>89.000000</td>\n",
       "      <td>1992.000000</td>\n",
       "      <td>0.000000</td>\n",
       "    </tr>\n",
       "    <tr>\n",
       "      <th>50%</th>\n",
       "      <td>4.000000</td>\n",
       "      <td>0.000000</td>\n",
       "      <td>3.000000</td>\n",
       "      <td>210.000000</td>\n",
       "      <td>1995.000000</td>\n",
       "      <td>0.000000</td>\n",
       "    </tr>\n",
       "    <tr>\n",
       "      <th>75%</th>\n",
       "      <td>4.000000</td>\n",
       "      <td>1.000000</td>\n",
       "      <td>10.000000</td>\n",
       "      <td>349.000000</td>\n",
       "      <td>2004.000000</td>\n",
       "      <td>0.000000</td>\n",
       "    </tr>\n",
       "    <tr>\n",
       "      <th>max</th>\n",
       "      <td>5.000000</td>\n",
       "      <td>138.000000</td>\n",
       "      <td>170.000000</td>\n",
       "      <td>603.000000</td>\n",
       "      <td>2017.000000</td>\n",
       "      <td>1.000000</td>\n",
       "    </tr>\n",
       "  </tbody>\n",
       "</table>\n",
       "</div>"
      ],
      "text/plain": [
       "            ratings  like_count_song  like_count_show  total_times_played  \\\n",
       "count  30882.000000     30882.000000     30882.000000        30882.000000   \n",
       "mean       3.830581         1.059128         7.208762          228.507318   \n",
       "std        0.649212         3.579642        12.288691          157.435445   \n",
       "min        1.000000         0.000000         0.000000            0.000000   \n",
       "25%        3.000000         0.000000         1.000000           89.000000   \n",
       "50%        4.000000         0.000000         3.000000          210.000000   \n",
       "75%        4.000000         1.000000        10.000000          349.000000   \n",
       "max        5.000000       138.000000       170.000000          603.000000   \n",
       "\n",
       "               year   cover_dummy  \n",
       "count  30882.000000  30882.000000  \n",
       "mean    1998.448676      0.239784  \n",
       "std        8.634273      0.426958  \n",
       "min     1983.000000      0.000000  \n",
       "25%     1992.000000      0.000000  \n",
       "50%     1995.000000      0.000000  \n",
       "75%     2004.000000      0.000000  \n",
       "max     2017.000000      1.000000  "
      ]
     },
     "execution_count": 4,
     "metadata": {},
     "output_type": "execute_result"
    }
   ],
   "source": [
    "df.describe()"
   ]
  },
  {
   "cell_type": "markdown",
   "id": "342e19f5-0987-4771-82d4-b067e5cabc27",
   "metadata": {},
   "source": [
    "***The goal is to predict which year had the best ratings and set up the target variable and relevant features:***\n",
    "\n",
    "Target Variable: The target variable will be the year's ratings. It represents the position at which the song appears in a particular context, such as a setlist or a chart. Depending on how it is defined in the dataset, the position can be a continuous numerical value or a categorical variable.\n",
    "\n",
    "Relevant Features: Relevant features are the attributes or characteristics of the year that might help in predicting its rating. "
   ]
  },
  {
   "cell_type": "code",
   "execution_count": 5,
   "id": "1462540d-a2c7-4713-a976-41519cfc9f67",
   "metadata": {},
   "outputs": [],
   "source": [
    "from sklearn.model_selection import train_test_split\n",
    "from sklearn.metrics import mean_squared_error, r2_score"
   ]
  },
  {
   "cell_type": "code",
   "execution_count": 6,
   "id": "384cabb0-8f16-4101-8923-35209a08264e",
   "metadata": {},
   "outputs": [],
   "source": [
    "# Set up the target variable  \n",
    "target = df['ratings']"
   ]
  },
  {
   "cell_type": "code",
   "execution_count": 9,
   "id": "cbca4be4-ebac-4633-abf4-889e6bc3dfb1",
   "metadata": {},
   "outputs": [],
   "source": [
    "# Select relevant features  \n",
    "features = df[['like_count_song', 'like_count_show', 'total_times_played', 'cover_dummy']]"
   ]
  },
  {
   "cell_type": "code",
   "execution_count": 10,
   "id": "ef6002ba-8ce5-4df7-8b0f-4b7936b9f8ee",
   "metadata": {},
   "outputs": [],
   "source": [
    "# Build a predictive model  \n",
    "X_train, X_test, y_train, y_test = train_test_split(features, target, test_size=0.2, random_state=42)"
   ]
  },
  {
   "cell_type": "markdown",
   "id": "cce6b634-2768-4496-96aa-5462b826cb28",
   "metadata": {},
   "source": [
    "**Model Training: Logistic Regression**"
   ]
  },
  {
   "cell_type": "code",
   "execution_count": 11,
   "id": "4dfbe301-a7ce-4ddf-bad9-8bc7856008f3",
   "metadata": {},
   "outputs": [],
   "source": [
    "from sklearn.linear_model import LinearRegression\n",
    "from sklearn.metrics import mean_squared_error"
   ]
  },
  {
   "cell_type": "code",
   "execution_count": 12,
   "id": "ea0a3b21-fda5-4bb2-ab0e-7853bba32ec5",
   "metadata": {},
   "outputs": [],
   "source": [
    "# Step 7: Build a predictive model  \n",
    "X_train, X_test, y_train, y_test = train_test_split(features, target, test_size=0.2, random_state=42)\n",
    "model = LinearRegression()\n",
    "model.fit(X_train, y_train)\n",
    "predictions = model.predict(X_test)"
   ]
  },
  {
   "cell_type": "markdown",
   "id": "5ebcd84b-ad4d-4b7d-9290-6dcabd9048de",
   "metadata": {},
   "source": [
    "**Model Evaluation**"
   ]
  },
  {
   "cell_type": "code",
   "execution_count": 13,
   "id": "ecbc219e-797d-41a0-918d-6a4c059d1c4f",
   "metadata": {},
   "outputs": [
    {
     "name": "stdout",
     "output_type": "stream",
     "text": [
      "Mean Squared Error: 0.3456942142541706\n",
      "R-squared: 0.17179942025891382\n"
     ]
    }
   ],
   "source": [
    "# Evaluate the model's performance  \n",
    "mse = mean_squared_error(y_test, predictions)\n",
    "r2 = r2_score(y_test, predictions)\n",
    "print(\"Mean Squared Error:\", mse)\n",
    "print(\"R-squared:\", r2)"
   ]
  },
  {
   "cell_type": "code",
   "execution_count": 14,
   "id": "baebe07c-d17a-4624-9128-dec5e3716f2f",
   "metadata": {},
   "outputs": [
    {
     "name": "stdout",
     "output_type": "stream",
     "text": [
      "              Feature  Coefficient\n",
      "1     like_count_show     0.021337\n",
      "0     like_count_song     0.015182\n",
      "2  total_times_played    -0.000121\n",
      "3         cover_dummy    -0.007076\n"
     ]
    }
   ],
   "source": [
    "# Analyze the results and draw conclusions  \n",
    "coefficients = pd.DataFrame({'Feature': features.columns, 'Coefficient': model.coef_})\n",
    "coefficients.sort_values(by='Coefficient', ascending=False, inplace=True)\n",
    "print(coefficients)"
   ]
  },
  {
   "cell_type": "markdown",
   "id": "260b4c2d-de89-4fcb-a287-f53858a0d4cb",
   "metadata": {},
   "source": [
    "The feature \"like_count_show\" has a coefficient of 0.021337. This suggests that a higher number of likes for the show is associated with an increase in the predicted ratings.<br>\n",
    "\n",
    "The feature \"like_count_song\" has a coefficient of 0.015182. This indicates that a higher number of likes for the song is associated with an increase in the predicted ratings.<br>\n",
    "\n",
    "The feature \"total_times_played\" has a coefficient of -0.000121. This suggests that an increase in the total number of times the song was played is associated with a slight decrease in the predicted ratings. <br>\n",
    "\n",
    "The feature \"cover_dummy\" has a coefficient of -0.007076. This indicates that if a song is a cover (represented by 1), it is associated with a slight decrease in the predicted ratings compared to non-cover songs (represented by 0).0)."
   ]
  },
  {
   "cell_type": "code",
   "execution_count": 15,
   "id": "e97b0f35-1165-4381-b334-6cbf63251666",
   "metadata": {},
   "outputs": [
    {
     "data": {
      "image/png": "[encoded data removed]",
      "text/plain": [
       "<Figure size 640x480 with 1 Axes>"
      ]
     },
     "metadata": {},
     "output_type": "display_data"
    }
   ],
   "source": [
    "plt.scatter(y_test, predictions)\n",
    "plt.xlabel('Actual Ratings')\n",
    "plt.ylabel('Predicted Ratings')\n",
    "plt.show()"
   ]
  },
  {
   "cell_type": "code",
   "execution_count": 16,
   "id": "35967263-25bb-4269-8f77-44fadb22ffc3",
   "metadata": {},
   "outputs": [
    {
     "name": "stdout",
     "output_type": "stream",
     "text": [
      "       Actual Ratings  Predicted Ratings\n",
      "6404                4           3.716713\n",
      "30748               4           4.039396\n",
      "12747               5           4.028420\n",
      "13872               4           3.652437\n",
      "8687                4           3.675589\n",
      "...               ...                ...\n",
      "23934               3           3.822369\n",
      "10376               4           3.662642\n",
      "23404               3           3.922402\n",
      "24451               4           3.886681\n",
      "14919               3           3.732501\n",
      "\n",
      "[6177 rows x 2 columns]\n"
     ]
    }
   ],
   "source": [
    "results_table = pd.DataFrame({'Actual Ratings': y_test, 'Predicted Ratings': predictions})\n",
    "print(results_table)"
   ]
  },
  {
   "cell_type": "markdown",
   "id": "15abb67a-300f-4d5c-82df-4fa5da956025",
   "metadata": {},
   "source": [
    "The \"Actual Ratings\" column shows the actual ratings for each data point.<br>\n",
    "\n",
    "The \"Predicted Ratings\" column shows the predicted ratings for each data point based on the linear regression model.<br>\n",
    "For example: <br>\n",
    "<br>\n",
    "In the first row, the actual rating is 4, and the predicted rating is approximately 3.716713.    <br>\n",
    "In the second row, the actual rating is 4, and the predicted rating is approximately 4.039396.   <br>\n",
    "In the third row, the actual rating is 5, and the predicted rating is approximately 4.028420.   <br>"
   ]
  },
  {
   "cell_type": "markdown",
   "id": "8709cbab-8327-481d-94a7-cd0a39e58a1b",
   "metadata": {},
   "source": [
    "**Model Tuning and Data Optimization** "
   ]
  },
  {
   "cell_type": "code",
   "execution_count": 17,
   "id": "2510a3fb-c714-4b66-9426-b1a1892aaf97",
   "metadata": {},
   "outputs": [],
   "source": [
    "from sklearn.preprocessing import StandardScaler  \n",
    "from sklearn.feature_selection import SelectKBest, f_regression  \n",
    "from sklearn.ensemble import RandomForestRegressor  \n",
    "from sklearn.model_selection import GridSearchCV"
   ]
  },
  {
   "cell_type": "code",
   "execution_count": 18,
   "id": "bd41e982-1a42-4e7f-b92b-70c73f597ac3",
   "metadata": {},
   "outputs": [],
   "source": [
    "# Feature Scaling  \n",
    "scaler = StandardScaler()\n",
    "features_scaled = scaler.fit_transform(features)"
   ]
  },
  {
   "cell_type": "markdown",
   "id": "8a2d65d6-9903-4e06-bc4f-c7c4b2768346",
   "metadata": {},
   "source": [
    "***imbalance check and implementation; data augmentation***<br>\n",
    "StandardScaler is used to standardize the features by removing the mean and scaling to unit variance. The fit_transform method is applied to the training set to fit the scaler and transform the features for a balanced data analysis. "
   ]
  },
  {
   "cell_type": "code",
   "execution_count": 22,
   "id": "24da07ad-45ba-4705-b9d0-9c7c2fc6cd3a",
   "metadata": {},
   "outputs": [],
   "source": [
    "# Feature Selection  \n",
    "selector = SelectKBest(f_regression, k='all') \n",
    "features_selected = selector.fit_transform(features_scaled, target)"
   ]
  },
  {
   "cell_type": "code",
   "execution_count": 23,
   "id": "ce716ccf-5b23-4ab3-ae22-57659ea50f72",
   "metadata": {},
   "outputs": [],
   "source": [
    "# Split the data into training and testing sets  \n",
    "X_train, X_test, y_train, y_test = train_test_split(features_selected, target, test_size=0.2, random_state=42)"
   ]
  },
  {
   "cell_type": "code",
   "execution_count": 24,
   "id": "17f2ac29-18f3-42d1-a4ec-da6cbe22d838",
   "metadata": {},
   "outputs": [
    {
     "data": {
      "text/html": [
       "<style>#sk-container-id-1 {color: black;background-color: white;}#sk-container-id-1 pre{padding: 0;}#sk-container-id-1 div.sk-toggleable {background-color: white;}#sk-container-id-1 label.sk-toggleable__label {cursor: pointer;display: block;width: 100%;margin-bottom: 0;padding: 0.3em;box-sizing: border-box;text-align: center;}#sk-container-id-1 label.sk-toggleable__label-arrow:before {content: \"▸\";float: left;margin-right: 0.25em;color: #696969;}#sk-container-id-1 label.sk-toggleable__label-arrow:hover:before {color: black;}#sk-container-id-1 div.sk-estimator:hover label.sk-toggleable__label-arrow:before {color: black;}#sk-container-id-1 div.sk-toggleable__content {max-height: 0;max-width: 0;overflow: hidden;text-align: left;background-color: #f0f8ff;}#sk-container-id-1 div.sk-toggleable__content pre {margin: 0.2em;color: black;border-radius: 0.25em;background-color: #f0f8ff;}#sk-container-id-1 input.sk-toggleable__control:checked~div.sk-toggleable__content {max-height: 200px;max-width: 100%;overflow: auto;}#sk-container-id-1 input.sk-toggleable__control:checked~label.sk-toggleable__label-arrow:before {content: \"▾\";}#sk-container-id-1 div.sk-estimator input.sk-toggleable__control:checked~label.sk-toggleable__label {background-color: #d4ebff;}#sk-container-id-1 div.sk-label input.sk-toggleable__control:checked~label.sk-toggleable__label {background-color: #d4ebff;}#sk-container-id-1 input.sk-hidden--visually {border: 0;clip: rect(1px 1px 1px 1px);clip: rect(1px, 1px, 1px, 1px);height: 1px;margin: -1px;overflow: hidden;padding: 0;position: absolute;width: 1px;}#sk-container-id-1 div.sk-estimator {font-family: monospace;background-color: #f0f8ff;border: 1px dotted black;border-radius: 0.25em;box-sizing: border-box;margin-bottom: 0.5em;}#sk-container-id-1 div.sk-estimator:hover {background-color: #d4ebff;}#sk-container-id-1 div.sk-parallel-item::after {content: \"\";width: 100%;border-bottom: 1px solid gray;flex-grow: 1;}#sk-container-id-1 div.sk-label:hover label.sk-toggleable__label {background-color: #d4ebff;}#sk-container-id-1 div.sk-serial::before {content: \"\";position: absolute;border-left: 1px solid gray;box-sizing: border-box;top: 0;bottom: 0;left: 50%;z-index: 0;}#sk-container-id-1 div.sk-serial {display: flex;flex-direction: column;align-items: center;background-color: white;padding-right: 0.2em;padding-left: 0.2em;position: relative;}#sk-container-id-1 div.sk-item {position: relative;z-index: 1;}#sk-container-id-1 div.sk-parallel {display: flex;align-items: stretch;justify-content: center;background-color: white;position: relative;}#sk-container-id-1 div.sk-item::before, #sk-container-id-1 div.sk-parallel-item::before {content: \"\";position: absolute;border-left: 1px solid gray;box-sizing: border-box;top: 0;bottom: 0;left: 50%;z-index: -1;}#sk-container-id-1 div.sk-parallel-item {display: flex;flex-direction: column;z-index: 1;position: relative;background-color: white;}#sk-container-id-1 div.sk-parallel-item:first-child::after {align-self: flex-end;width: 50%;}#sk-container-id-1 div.sk-parallel-item:last-child::after {align-self: flex-start;width: 50%;}#sk-container-id-1 div.sk-parallel-item:only-child::after {width: 0;}#sk-container-id-1 div.sk-dashed-wrapped {border: 1px dashed gray;margin: 0 0.4em 0.5em 0.4em;box-sizing: border-box;padding-bottom: 0.4em;background-color: white;}#sk-container-id-1 div.sk-label label {font-family: monospace;font-weight: bold;display: inline-block;line-height: 1.2em;}#sk-container-id-1 div.sk-label-container {text-align: center;}#sk-container-id-1 div.sk-container {/* jupyter's `normalize.less` sets `[hidden] { display: none; }` but bootstrap.min.css set `[hidden] { display: none !important; }` so we also need the `!important` here to be able to override the default hidden behavior on the sphinx rendered scikit-learn.org. See: https://github.com/scikit-learn/scikit-learn/issues/21755 */display: inline-block !important;position: relative;}#sk-container-id-1 div.sk-text-repr-fallback {display: none;}</style><div id=\"sk-container-id-1\" class=\"sk-top-container\"><div class=\"sk-text-repr-fallback\"><pre>GridSearchCV(cv=5, estimator=RandomForestRegressor(random_state=42),\n",
       "             param_grid={&#x27;max_depth&#x27;: [None, 5, 10],\n",
       "                         &#x27;n_estimators&#x27;: [100, 200, 300]})</pre><b>In a Jupyter environment, please rerun this cell to show the HTML representation or trust the notebook. <br />On GitHub, the HTML representation is unable to render, please try loading this page with nbviewer.org.</b></div><div class=\"sk-container\" hidden><div class=\"sk-item sk-dashed-wrapped\"><div class=\"sk-label-container\"><div class=\"sk-label sk-toggleable\"><input class=\"sk-toggleable__control sk-hidden--visually\" id=\"sk-estimator-id-1\" type=\"checkbox\" ><label for=\"sk-estimator-id-1\" class=\"sk-toggleable__label sk-toggleable__label-arrow\">GridSearchCV</label><div class=\"sk-toggleable__content\"><pre>GridSearchCV(cv=5, estimator=RandomForestRegressor(random_state=42),\n",
       "             param_grid={&#x27;max_depth&#x27;: [None, 5, 10],\n",
       "                         &#x27;n_estimators&#x27;: [100, 200, 300]})</pre></div></div></div><div class=\"sk-parallel\"><div class=\"sk-parallel-item\"><div class=\"sk-item\"><div class=\"sk-label-container\"><div class=\"sk-label sk-toggleable\"><input class=\"sk-toggleable__control sk-hidden--visually\" id=\"sk-estimator-id-2\" type=\"checkbox\" ><label for=\"sk-estimator-id-2\" class=\"sk-toggleable__label sk-toggleable__label-arrow\">estimator: RandomForestRegressor</label><div class=\"sk-toggleable__content\"><pre>RandomForestRegressor(random_state=42)</pre></div></div></div><div class=\"sk-serial\"><div class=\"sk-item\"><div class=\"sk-estimator sk-toggleable\"><input class=\"sk-toggleable__control sk-hidden--visually\" id=\"sk-estimator-id-3\" type=\"checkbox\" ><label for=\"sk-estimator-id-3\" class=\"sk-toggleable__label sk-toggleable__label-arrow\">RandomForestRegressor</label><div class=\"sk-toggleable__content\"><pre>RandomForestRegressor(random_state=42)</pre></div></div></div></div></div></div></div></div></div></div>"
      ],
      "text/plain": [
       "GridSearchCV(cv=5, estimator=RandomForestRegressor(random_state=42),\n",
       "             param_grid={'max_depth': [None, 5, 10],\n",
       "                         'n_estimators': [100, 200, 300]})"
      ]
     },
     "execution_count": 24,
     "metadata": {},
     "output_type": "execute_result"
    }
   ],
   "source": [
    "#  Model Selection and Hyperparameter Tuning  \n",
    "param_grid = {'n_estimators': [100, 200, 300], 'max_depth': [None, 5, 10]}\n",
    "model = GridSearchCV(RandomForestRegressor(random_state=42), param_grid, cv=5)\n",
    "model.fit(X_train, y_train)"
   ]
  },
  {
   "cell_type": "code",
   "execution_count": 25,
   "id": "145132f6-3364-41c3-aad3-6c17139f601a",
   "metadata": {},
   "outputs": [],
   "source": [
    "# Make predictions  \n",
    "predictions = model.predict(X_test)"
   ]
  },
  {
   "cell_type": "code",
   "execution_count": 26,
   "id": "46a711cb-0e11-49bd-84f4-ecdffa8b035a",
   "metadata": {},
   "outputs": [
    {
     "name": "stdout",
     "output_type": "stream",
     "text": [
      "Mean Squared Error: 0.28634373902623783\n",
      "R-squared: 0.3139889506730459\n"
     ]
    }
   ],
   "source": [
    "# Evaluate the model's performance  \n",
    "mse = mean_squared_error(y_test, predictions)\n",
    "r2 = r2_score(y_test, predictions)\n",
    "print(\"Mean Squared Error:\", mse)\n",
    "print(\"R-squared:\", r2)\n"
   ]
  },
  {
   "cell_type": "markdown",
   "id": "cde0197a-2c98-48c6-b035-f9ab8d7ecf5c",
   "metadata": {},
   "source": [
    "The mean squared error (MSE) value of 0.28634373902623783 indicates the average squared difference between the predicted values and the actual values in a regression model. A lower MSE indicates better accuracy of the model.\r\n",
    "\r\n",
    "The R-squared value of 0.3139889506730459 represents the proportion of the variance in the dependent variable that can be explained by the independent variables in the regression model. A higher R-squared value suggests a better fit of the model to the data."
   ]
  },
  {
   "cell_type": "code",
   "execution_count": 28,
   "id": "094ea48c-3b5e-45fa-9fcb-07ac1c404b25",
   "metadata": {},
   "outputs": [
    {
     "name": "stdout",
     "output_type": "stream",
     "text": [
      "              Feature  Importance\n",
      "1     like_count_show    0.796416\n",
      "2  total_times_played    0.131553\n",
      "0     like_count_song    0.058222\n",
      "3         cover_dummy    0.013809\n"
     ]
    },
    {
     "data": {
      "image/png": "[encoded data removed]",
      "text/plain": [
       "<Figure size 640x480 with 1 Axes>"
      ]
     },
     "metadata": {},
     "output_type": "display_data"
    }
   ],
   "source": [
    "# Analyze the results and draw conclusions  \n",
    "feature_names = [features.columns[i] for i in range(features_selected.shape[1])]\n",
    "feature_importances = model.best_estimator_.feature_importances_\n",
    "feature_table = pd.DataFrame({'Feature': feature_names, 'Importance': feature_importances})\n",
    "feature_table.sort_values(by='Importance', ascending=False, inplace=True)\n",
    "print(feature_table)\n",
    "\n",
    "plt.scatter(y_test, predictions)\n",
    "plt.xlabel('Actual Ratings')\n",
    "plt.ylabel('Predicted Ratings')\n",
    "plt.show()"
   ]
  },
  {
   "cell_type": "markdown",
   "id": "37d5c376-f5d4-43ad-9950-da9b8f3c95e8",
   "metadata": {},
   "source": [
    "The most important feature is \"like_count_show\" with an importance value of 0.796416.<br>\n",
    "The second most important feature is \"total_times_played\" with an importance value of 0.131553. <br>\n",
    "The third most important feature is \"like_count_song\" with an importance value of 0.058222. <br>\n",
    "The least important feature is \"cover_dummy\" with an importance value of 0.013809.<br> needed."
   ]
  },
  {
   "cell_type": "markdown",
   "id": "4bb29ce1-842b-4c2a-80ef-e4d07ea27f91",
   "metadata": {},
   "source": [
    "**Conclusions**<br>\n",
    "Analyzing the performance of the logistic regression model before and after using GridSearchCV for hyperparameter tuning: <br>\n",
    "\n",
    "***Before GridSearchCV: <br>***\n",
    "Mean Squared Error (MSE): 0.3456942142541706 <br>\n",
    "R-squared: 0.17179942025891382 <br>\n",
    "\n",
    "***After GridSearchCV: <br>***\n",
    "Mean Squared Error (MSE): 0.28634373902623783 <br>\n",
    "R-squared: 0.3139889506730459 <br>\n",
    "\n",
    "***Comparing these metrics, we can observe the following:*** <br>\n",
    "* Mean Squared Error (MSE): The MSE measures the average squared difference between the actual ratings and the predicted ratings. In both cases, the MSE decreased after applying GridSearchCV. A lower MSE indicates better model performance in terms of minimizing prediction errors.<br>\n",
    "\n",
    "* R-squared: The R-squared value represents the proportion of the variance in the target variable (ratings) that can be explained by the model. The R-squared value increased after using GridSearchCV. A higher R-squared indicates that the model explains more of the variance in the ratings, suggesting an improvement in model performance. <br>\n",
    "\n",
    "Additionally, examining the feature coefficients and feature importance: <br>\n",
    "\n",
    "* Feature Coefficients (Before GridSearchCV): The coefficients indicate the relationship between each feature and the target variable. Positive coefficients suggest a positive relationship, while negative coefficients suggest a negative relationship. In this case, like_count_show and like_count_song have positive coefficients, indicating a positive influence on the ratings. total_times_played and cover_dummy have negative coefficients, suggesting a negative influence on the ratings .<br>\n",
    "\n",
    "* Feature Importance (After GridSearchCV): The feature importance values represent the relative importance of each feature in predicting the target variable. A higher feature importance indicates a stronger influence on the ratings. In this case, like_count_show has the highest feature importance, followed by total_times_played and like_count_song. cover_dummy has the lowest feature importance. <br>\n",
    "\n",
    "Overall, based on the decrease in MSE, increase in R-squared, and the feature coefficients/importance, we can conclude that the model improved after using GridSearchCV for hyperparameter tuning. It is capturing more of the variance in the ratings and providing better predictions. <br>\n",
    "\n",
    "\n",
    "**References**<br>\n",
    "\n",
    "Hastie, T., Tibshirani, R., & Friedman, J. (2009). The Elements of Statistical Learning: Data Mining, Inference, and Prediction. Springer.<br>\n",
    "\n",
    "Chawla, N. V., Bowyer, K. W., Hall, L. O., & Kegelmeyer, W. P. (2002). SMOTE: Synthetic Minority Over-sampling Technique. Journal of Artificial Intelligence Research, 16, 321-357.<br>\n",
    "\n",
    "Pedregosa, F., Varoquaux, G., Gramfort, A., Michel, V., Thirion, B., Grisel, O., ... & Vanderplas, J. (2011). Scikit-learn: Machine Learning in Python. Journal of Machine Learning Research, 12, 2825-2830.<br>\n",
    "\n",
    "Shorten, C., & Khoshgoftaar, T. M. (2019). A survey on Image Data Augmentation for Deep Learning. Journal of Big Data, 6(1), "
   ]
  },
  {
   "cell_type": "code",
   "execution_count": null,
   "id": "4ba0be5a-0973-40bb-abe4-523d27a458c8",
   "metadata": {},
   "outputs": [],
   "source": []
  }
 ],
 "metadata": {
  "kernelspec": {
   "display_name": "Python 3 (ipykernel)",
   "language": "python",
   "name": "python3"
  },
  "language_info": {
   "codemirror_mode": {
    "name": "ipython",
    "version": 3
   },
   "file_extension": ".py",
   "mimetype": "text/x-python",
   "name": "python",
   "nbconvert_exporter": "python",
   "pygments_lexer": "ipython3",
   "version": "3.11.7"
  }
 },
 "nbformat": 4,
 "nbformat_minor": 5
}
